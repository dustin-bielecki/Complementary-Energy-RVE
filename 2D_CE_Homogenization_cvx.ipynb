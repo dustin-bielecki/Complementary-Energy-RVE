{
 "cells": [
  {
   "cell_type": "code",
   "execution_count": 1,
   "metadata": {},
   "outputs": [],
   "source": [
    "import numpy as np\n",
    "import sympy\n",
    "from sympy import *\n",
    "import numpy.linalg\n",
    "from scipy.sparse import coo_matrix\n",
    "from scipy.sparse.linalg import spsolve\n",
    "import cvxpy as cp\n",
    "from matplotlib import pyplot as plt"
   ]
  },
  {
   "cell_type": "code",
   "execution_count": 2,
   "metadata": {},
   "outputs": [],
   "source": [
    "class torus:\n",
    "    def __init__(self, tube_rad, num_pts, scaling):\n",
    "        self.t = np.linspace(0,2*np.pi,num_pts)\n",
    "        #Create the points\n",
    "        pts_x = np.cos(self.t)\n",
    "        pts_y = np.sin(self.t)\n",
    "        pts_x *= scaling\n",
    "        pts_y *= scaling\n",
    "        #Shift points to center\n",
    "        x_shift = 0.5\n",
    "        y_shift = 0.5\n",
    "        pts_x += x_shift\n",
    "        pts_y += y_shift\n",
    "        #Create the sympy object\n",
    "        ts = sympy.symbols('ts')\n",
    "        self.x = sympy.cos(ts)*scaling + x_shift \n",
    "        self.y = sympy.sin(ts)*scaling + y_shift\n",
    "        self.x = lambdify(ts, self.x)\n",
    "        self.y = lambdify(ts, self.y)\n",
    "        self.t_anchors, self.anchor_attach_index_sort, self.anchor_attach_index_map = [], [], []"
   ]
  },
  {
   "cell_type": "code",
   "execution_count": 3,
   "metadata": {},
   "outputs": [],
   "source": [
    "E = 324884\n",
    "tube_rad = 0.1\n",
    "scaling = 0.445\n",
    "I = (np.pi*tube_rad**4)/4\n",
    "Area = np.pi*tube_rad**2\n",
    "\n",
    "curve = torus(tube_rad, 1000, scaling)\n",
    "curve.t_anchors = np.array([0,np.pi/4,3*np.pi/4,5*np.pi/4,7*np.pi/4, 2*np.pi])\n",
    "curve.anchor_attach_index_sort = np.sort(curve.t_anchors)\n",
    "curve.anchor_attach_index_map = np.argsort(curve.t_anchors)\n",
    "\n",
    "corner_pts = (np.array([[1,1],[0,1],[0,0],[1,0]]))"
   ]
  },
  {
   "cell_type": "code",
   "execution_count": null,
   "metadata": {},
   "outputs": [],
   "source": []
  },
  {
   "cell_type": "code",
   "execution_count": 4,
   "metadata": {},
   "outputs": [
    {
     "data": {
      "image/png": "[encoded data removed]",
      "text/plain": [
       "<Figure size 432x288 with 1 Axes>"
      ]
     },
     "metadata": {},
     "output_type": "display_data"
    }
   ],
   "source": [
    "t = np.linspace(0,2*np.pi,1000)\n",
    "fig, ax = plt.subplots()\n",
    "ax.plot(curve.x(t),curve.y(t), c='k')\n",
    "for i in range(4):\n",
    "    ax.plot([corner_pts[i,0],curve.x(curve.anchor_attach_index_sort[i+1])], [corner_pts[i,1],curve.y(curve.anchor_attach_index_sort[i+1])],c='k')\n",
    "ax.set_aspect(\"equal\", adjustable=\"datalim\")\n",
    "plt.show()\n",
    "\n"
   ]
  },
  {
   "cell_type": "code",
   "execution_count": 5,
   "metadata": {},
   "outputs": [],
   "source": [
    "def dF_complex(x,h):\n",
    "    return np.imag(F(x + 1j*h))/h"
   ]
  },
  {
   "cell_type": "code",
   "execution_count": 6,
   "metadata": {},
   "outputs": [],
   "source": [
    "def gaus_int_loop(t0, t1, seg_num, t_anchors, corner_pts, xs, ys, E, I, A):\n",
    "    num_int = 0\n",
    "    int_points = -0.9739065285171717, -0.8650633666889845, -0.6794095682990244, -0.4333953941292472, -0.1488743389816312, 0.1488743389816312, 0.4333953941292472, 0.6794095682990244, 0.8650633666889845, 0.9739065285171717\n",
    "    weights = 0.0666713443086881, 0.1494513491505806, 0.2190863625159820, 0.2692667193099963, 0.2955242247147529, 0.2955242247147529, 0.2692667193099963, 0.2190863625159820, 0.1494513491505806, 0.0666713443086881\n",
    "    m_array = np.zeros((len(weights), 15))\n",
    "    p_array = np.zeros((len(weights), 15))\n",
    "    dsdt = np.zeros((len(weights)))\n",
    "    c1 = (t1-t0)/2\n",
    "    c2 = (t1+t0)/2\n",
    "    for i in range(seg_num+1):\n",
    "        if i > 0:\n",
    "            r_x = (corner_pts[i-1,0] - xs(t_anchors[i]))\n",
    "            r_y = (corner_pts[i-1,1] - ys(t_anchors[i]))\n",
    "        else:\n",
    "            r_x = 0\n",
    "            r_y = 0\n",
    "        for j in range(len(weights)):\n",
    "            m_array[j,i*3] = -(ys(t_anchors[i]) - ys(c1*int_points[j]+c2)) - r_y\n",
    "            m_array[j,i*3+1] = (xs(t_anchors[i])- xs(c1*int_points[j]+c2)) + r_x\n",
    "            m_array[j,i*3+2] = 1\n",
    "    \n",
    "            #Numerically find the derivative\n",
    "            h = 1e-16\n",
    "            xt = -np.imag(xs(c1*int_points[j]+c2 + 1j*h))/h\n",
    "            yt = -np.imag(ys(c1*int_points[j]+c2 + 1j*h))/h\n",
    "            dsdt[j] = sympy.sqrt(xt**2 + yt**2)\n",
    "            p_array[j,i*3] = xt/sympy.sqrt(xt**2 + yt**2)\n",
    "            p_array[j,i*3+1] = yt/sympy.sqrt(xt**2 + yt**2)\n",
    "\n",
    "    for i in range(len(weights)):\n",
    "        M_int = np.outer(m_array[i,:],m_array[i,:])\n",
    "        P_int = np.outer(p_array[i,:],p_array[i,:])\n",
    "        num_int += (M_int/(E*I) + P_int/(E*A))*weights[i]*dsdt[i]\n",
    "    num_int *= c1\n",
    "    return num_int"
   ]
  },
  {
   "cell_type": "code",
   "execution_count": 7,
   "metadata": {},
   "outputs": [],
   "source": [
    "A = 0.\n",
    "for i in range(curve.t_anchors.shape[0]-1):\n",
    "    t0 = curve.t_anchors[curve.anchor_attach_index_map[i]]\n",
    "    t1 = curve.t_anchors[curve.anchor_attach_index_map[i+1]]\n",
    "    A_temp = gaus_int_loop(t0, t1, i, curve.t_anchors[curve.anchor_attach_index_map], corner_pts, curve.x, curve.y, E, I, Area)\n",
    "    A += A_temp"
   ]
  },
  {
   "cell_type": "markdown",
   "metadata": {},
   "source": [
    "## Strands"
   ]
  },
  {
   "cell_type": "code",
   "execution_count": 8,
   "metadata": {},
   "outputs": [],
   "source": [
    "def gaus_int_strand(x_curve, y_curve, x_corner, y_corner, E, I, A):\n",
    "    t0 = 0\n",
    "    t1 = 1\n",
    "    num_int = 0\n",
    "    int_points = -0.9739065285171717, -0.8650633666889845, -0.6794095682990244, -0.4333953941292472, -0.1488743389816312, 0.1488743389816312, 0.4333953941292472, 0.6794095682990244, 0.8650633666889845, 0.9739065285171717\n",
    "    weights = 0.0666713443086881, 0.1494513491505806, 0.2190863625159820, 0.2692667193099963, 0.2955242247147529, 0.2955242247147529, 0.2692667193099963, 0.2190863625159820, 0.1494513491505806, 0.0666713443086881\n",
    "    m_array = np.zeros((len(weights), 3))\n",
    "    p_array = np.zeros((len(weights), 3))\n",
    "    dsdt = np.zeros((len(weights)))\n",
    "    c1 = (t1-t0)/2\n",
    "    c2 = (t1+t0)/2\n",
    "    \n",
    "    tss = sympy.symbols('tss')\n",
    "    xss = (x_curve - x_corner)*tss\n",
    "    yss = (y_curve - y_corner)*tss\n",
    "    xss = lambdify(tss, xss)\n",
    "    yss = lambdify(tss, yss) \n",
    "            \n",
    "    r_x = (x_corner - x_curve)\n",
    "    r_y = (y_corner - y_curve)\n",
    "            \n",
    "    for i in range(len(weights)):\n",
    "        m_array[i,0] = yss(c1*int_points[i]+c2) + r_y\n",
    "        m_array[i,1] = -xss(c1*int_points[i]+c2) - r_x\n",
    "        m_array[i,2] = -1\n",
    "        #Numerically find the derivative\n",
    "        h = 1e-16\n",
    "        xt = np.imag(xss(c1*int_points[i]+c2 + 1j*h))/h\n",
    "        yt = np.imag(yss(c1*int_points[i]+c2 + 1j*h))/h       \n",
    "        dsdt[i] = sympy.sqrt(xt**2 + yt**2)\n",
    "        p_array[i,0] = -xt/dsdt[i]\n",
    "        p_array[i,1] = -yt/dsdt[i]\n",
    "        p_array[i,:] /= np.linalg.norm(p_array[i,:])\n",
    "\n",
    "    for i in range(len(weights)):\n",
    "        M_int = np.outer(m_array[i,:],m_array[i,:])\n",
    "        P_int = np.outer(p_array[i,:],p_array[i,:])\n",
    "        num_int += (M_int/(E*I) + P_int/(E*A))*weights[i]*dsdt[i]\n",
    "    num_int *= c1\n",
    "    return num_int\n"
   ]
  },
  {
   "cell_type": "code",
   "execution_count": 9,
   "metadata": {},
   "outputs": [],
   "source": [
    "int_strand = np.zeros((4,3,3))\n",
    "\n",
    "for i in range(4):\n",
    "    x_curve = np.array(curve.x(curve.t_anchors[i+1]))\n",
    "    y_curve = np.array(curve.y(curve.t_anchors[i+1]))\n",
    "    x_corner = corner_pts[curve.anchor_attach_index_map[i+1]-1,0]\n",
    "    y_corner = corner_pts[curve.anchor_attach_index_map[i+1]-1,1]\n",
    "    int_strand[i,:,:] = gaus_int_strand(x_curve, y_curve, x_corner, y_corner, E, I, Area)"
   ]
  },
  {
   "cell_type": "code",
   "execution_count": 10,
   "metadata": {},
   "outputs": [],
   "source": [
    "A_star = np.zeros((15,15))\n",
    "for i in range(4):\n",
    "    A_star[(i+1)*3:(i+2)*3, (i+1)*3:(i+2)*3] = int_strand[i,:,:]"
   ]
  },
  {
   "cell_type": "code",
   "execution_count": 11,
   "metadata": {},
   "outputs": [],
   "source": [
    "A_combined = np.zeros((18,18))\n",
    "A_combined[:15,:15] = A + A_star"
   ]
  },
  {
   "cell_type": "code",
   "execution_count": 12,
   "metadata": {},
   "outputs": [],
   "source": [
    "for i in range(1, curve.anchor_attach_index_sort.shape[0]-1):\n",
    "    r_x = corner_pts[i-1,0] - curve.x(curve.t_anchors[i])\n",
    "    r_y = corner_pts[i-1,1] - curve.y(curve.t_anchors[i])\n",
    "    inp_array = np.eye(3)\n",
    "    inp_array[0,2] = -(curve.y(curve.t_anchors[i])-curve.y(curve.t[0])) - r_y\n",
    "    inp_array[1,2] = (curve.x(curve.t_anchors[i])-curve.x(curve.t[0])) + r_x\n",
    "    A_combined[i*3:(i*3+3), 15:18] = inp_array\n",
    "    A_combined[15:18, i*3:(i*3+3)] = np.transpose(inp_array)\n"
   ]
  },
  {
   "cell_type": "code",
   "execution_count": 13,
   "metadata": {},
   "outputs": [],
   "source": [
    "ux = np.zeros((18,))\n",
    "uy = np.zeros((18,))\n",
    "uxy = np.zeros((18,))\n",
    "u = np.zeros((18,5))\n",
    "displacement = 0.01\n",
    "for i in range(4):\n",
    "    if i in np.array([0, 3]):\n",
    "        ux[(i+1)*3] = displacement\n",
    "    if i in np.array([0, 1]):\n",
    "        uy[(i+1)*3+1] = displacement\n",
    "    if i in np.array([0]):\n",
    "        uxy[(i+1)*3] = displacement/2\n",
    "    if i in np.array([1]):\n",
    "        uxy[(i+1)*3] = displacement/2\n",
    "\n",
    "u[:,0] = ux\n",
    "u[:,1] = uy\n",
    "u[:,2] = uxy"
   ]
  },
  {
   "cell_type": "code",
   "execution_count": 14,
   "metadata": {},
   "outputs": [],
   "source": [
    "F_resultant_x = np.linalg.solve(A_combined,ux)\n",
    "F_resultant_y = np.linalg.solve(A_combined,uy)\n",
    "F_resultant_xy = np.linalg.solve(A_combined,uxy)\n",
    "f = np.zeros((18,3))\n",
    "f[:,0] = F_resultant_x\n",
    "f[:,1] = F_resultant_y\n",
    "f[:,2] = F_resultant_xy\n",
    "\n",
    "#This solves for the additional moments at the corners from the forces at the loop\n",
    "for i in range(4):\n",
    "    x_curve = np.array(curve.x(curve.t_anchors[i+1]))\n",
    "    y_curve = np.array(curve.y(curve.t_anchors[i+1]))\n",
    "    x_corner = corner_pts[curve.anchor_attach_index_map[i+1]-1,0]\n",
    "    y_corner = corner_pts[curve.anchor_attach_index_map[i+1]-1,1]\n",
    "    x_vec = x_curve - x_corner\n",
    "    y_vec = y_curve - y_corner\n",
    "    f[(i+1)*3+2,:] = x_vec*f[(i+1)*3+1,:] - y_vec * f[(i+1)*3,:] - f[(i+1)*3+2,:]\n"
   ]
  },
  {
   "cell_type": "code",
   "execution_count": 15,
   "metadata": {},
   "outputs": [],
   "source": [
    "F_CE = f[[3, 4, 6, 7, 9, 10, 12, 13],:]\n",
    "u_ce = u[[3, 4, 6, 7, 9, 10, 12, 13],:]"
   ]
  },
  {
   "cell_type": "code",
   "execution_count": 16,
   "metadata": {},
   "outputs": [],
   "source": [
    "sigma = np.zeros((3,3))\n",
    "sigma[0,0] = F_CE[0,0] + F_CE[6,0]\n",
    "sigma[1,0] = F_CE[1,0] + F_CE[3,0]\n",
    "sigma[2,0] = 0\n",
    "\n",
    "sigma[0,1] = F_CE[0,1] + F_CE[6,1]\n",
    "sigma[1,1] = F_CE[1,1] + F_CE[3,1]\n",
    "sigma[2,1] = 0\n",
    "\n",
    "sigma[0,2] = 0\n",
    "sigma[1,2] = 0\n",
    "sigma[2,2] = (F_CE[0,2] + F_CE[1,2] + F_CE[2,2] + F_CE[7,2])/2\n",
    "\n",
    "eps = np.zeros((3,3))\n",
    "eps[0,0] = displacement\n",
    "eps[1,1] = displacement\n",
    "eps[2,2] = displacement"
   ]
  },
  {
   "cell_type": "code",
   "execution_count": 17,
   "metadata": {},
   "outputs": [],
   "source": [
    "def obj_func(C,f,u):\n",
    "    error = 0\n",
    "    nx = 4\n",
    "    ny = nx\n",
    "    for i in range(3):\n",
    "        error += cp.sum_squares(f[:,i]-C@u[:,i])\n",
    "    return error\n",
    "\n",
    "# Construct the problem.\n",
    "C = cp.Variable((3,3), PSD=True)\n",
    "E_min = 0\n",
    "E_max = 300000\n",
    "nu_min = -1\n",
    "nu_max = 0.5\n",
    "c11_max = E_max/(.75)\n",
    "c12_max = c11_max*0.5\n",
    "constraints = [C[0,0] == C[1,1], C[0,2] == 0, C[1,2] == 0]\n",
    "prob = cp.Problem(cp.Minimize(obj_func(C,sigma,eps)), constraints)\n",
    "# Solve the optimization problem\n",
    "result = prob.solve()"
   ]
  },
  {
   "cell_type": "code",
   "execution_count": 18,
   "metadata": {
    "scrolled": true
   },
   "outputs": [],
   "source": [
    "nu_calc = C.value[1,0]/C.value[0,0]\n",
    "E_calc = C.value[0,0]*(1-nu_calc**2)\n",
    "G_calc = C.value[2,2]/C.value[0,0]"
   ]
  },
  {
   "cell_type": "code",
   "execution_count": 19,
   "metadata": {},
   "outputs": [
    {
     "name": "stdout",
     "output_type": "stream",
     "text": [
      "E = 10935.607417058069\n",
      "nu = 0.18314637000048462\n",
      "G = 0.04210712717827624\n"
     ]
    }
   ],
   "source": [
    "print('E =', E_calc)\n",
    "print('nu =', nu_calc)\n",
    "print('G =', G_calc)"
   ]
  }
 ],
 "metadata": {
  "kernelspec": {
   "display_name": "Python 3",
   "language": "python",
   "name": "python3"
  },
  "language_info": {
   "codemirror_mode": {
    "name": "ipython",
    "version": 3
   },
   "file_extension": ".py",
   "mimetype": "text/x-python",
   "name": "python",
   "nbconvert_exporter": "python",
   "pygments_lexer": "ipython3",
   "version": "3.6.5"
  }
 },
 "nbformat": 4,
 "nbformat_minor": 4
}
